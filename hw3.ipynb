{
 "cells": [
  {
   "cell_type": "markdown",
   "id": "intellectual-adelaide",
   "metadata": {},
   "source": [
    "# Question"
   ]
  },
  {
   "cell_type": "markdown",
   "id": "present-cosmetic",
   "metadata": {},
   "source": [
    "## 5. Draw the ROC curve"
   ]
  },
  {
   "cell_type": "code",
   "execution_count": 158,
   "id": "armed-understanding",
   "metadata": {},
   "outputs": [
    {
     "data": {
      "image/png": "[encoded data removed]",
      "text/plain": [
       "<Figure size 576x432 with 1 Axes>"
      ]
     },
     "metadata": {
      "needs_background": "light"
     },
     "output_type": "display_data"
    }
   ],
   "source": [
    "import numpy as np\n",
    "import matplotlib.pyplot as plt\n",
    "\n",
    "confidences = [0.95, 0.85, 0.8, 0.7, 0.55, 0.45, 0.4, 0.3, 0.2, 0.1]\n",
    "correct_classes = [1, 1, 0, 1, 1, 0, 1, 1, 0, 0]\n",
    "sorted_data = sorted(zip(confidences, correct_classes), reverse=True)\n",
    "\n",
    "thresholds = list(np.around(np.array(np.linspace(0, 1, 10)), 2)) \n",
    "roc_points = [] \n",
    "\n",
    "for threshold in thresholds:\n",
    "    tp = 0\n",
    "    fp = 0\n",
    "    tn = 0\n",
    "    fn = 0\n",
    "    \n",
    "    for confidence, correct_class in sorted_data:\n",
    "        if (confidence >= threshold): predicted_value = 1\n",
    "        else: predicted_value = 0\n",
    "        #print(f\"confidence: {confidence}, correct: {correct_class}, predicted: {predicted_value}, threshold: {threshold}\")\n",
    "        if ((correct_class == 1) & (predicted_value == 1)):\n",
    "            tp += 1\n",
    "        elif ((correct_class == 0) & (predicted_value == 0)):\n",
    "            tn += 1\n",
    "        elif ((correct_class == 0) & (predicted_value == 1)):\n",
    "            fp += 1\n",
    "        elif ((correct_class == 1) & (predicted_value == 0)):\n",
    "            fn += 1\n",
    "            \n",
    "    tpr = round(tp / (tp + fn), 2)\n",
    "    fpr = round(fp / (fp + tn), 2)\n",
    "    #print(f\"tp: {tp}, tn: {tn}, fp: {fp}, fn: {fn}\")\n",
    "    #print(f\"tpr: {tpr}, fpr: {fpr}\")\n",
    "    roc_points.append((fpr, tpr))    \n",
    "\n",
    "# Extract FPR and TPR values for the ROC curve\n",
    "fpr_values, tpr_values = zip(*roc_points)\n",
    "\n",
    "# Plot ROC curve\n",
    "plt.figure(figsize=(8, 6))\n",
    "plt.plot(fpr_values, tpr_values, marker='o', linestyle='-', color='b')\n",
    "plt.xlabel('False Positive Rate (FPR)')\n",
    "plt.ylabel('True Positive Rate (TPR)')\n",
    "plt.title('ROC Curve')\n",
    "plt.grid(True)\n",
    "plt.show()\n"
   ]
  },
  {
   "cell_type": "code",
   "execution_count": 162,
   "id": "handy-following",
   "metadata": {},
   "outputs": [
    {
     "data": {
      "text/html": [
       "<div>\n",
       "<style scoped>\n",
       "    .dataframe tbody tr th:only-of-type {\n",
       "        vertical-align: middle;\n",
       "    }\n",
       "\n",
       "    .dataframe tbody tr th {\n",
       "        vertical-align: top;\n",
       "    }\n",
       "\n",
       "    .dataframe thead th {\n",
       "        text-align: right;\n",
       "    }\n",
       "</style>\n",
       "<table border=\"1\" class=\"dataframe\">\n",
       "  <thead>\n",
       "    <tr style=\"text-align: right;\">\n",
       "      <th></th>\n",
       "      <th>fpr</th>\n",
       "      <th>tpr</th>\n",
       "      <th>threshods</th>\n",
       "    </tr>\n",
       "  </thead>\n",
       "  <tbody>\n",
       "    <tr>\n",
       "      <th>0</th>\n",
       "      <td>1.00</td>\n",
       "      <td>1.00</td>\n",
       "      <td>0.00</td>\n",
       "    </tr>\n",
       "    <tr>\n",
       "      <th>1</th>\n",
       "      <td>0.75</td>\n",
       "      <td>1.00</td>\n",
       "      <td>0.11</td>\n",
       "    </tr>\n",
       "    <tr>\n",
       "      <th>2</th>\n",
       "      <td>0.50</td>\n",
       "      <td>1.00</td>\n",
       "      <td>0.22</td>\n",
       "    </tr>\n",
       "    <tr>\n",
       "      <th>3</th>\n",
       "      <td>0.50</td>\n",
       "      <td>0.83</td>\n",
       "      <td>0.33</td>\n",
       "    </tr>\n",
       "    <tr>\n",
       "      <th>4</th>\n",
       "      <td>0.50</td>\n",
       "      <td>0.67</td>\n",
       "      <td>0.44</td>\n",
       "    </tr>\n",
       "    <tr>\n",
       "      <th>5</th>\n",
       "      <td>0.25</td>\n",
       "      <td>0.50</td>\n",
       "      <td>0.56</td>\n",
       "    </tr>\n",
       "    <tr>\n",
       "      <th>6</th>\n",
       "      <td>0.25</td>\n",
       "      <td>0.50</td>\n",
       "      <td>0.67</td>\n",
       "    </tr>\n",
       "    <tr>\n",
       "      <th>7</th>\n",
       "      <td>0.25</td>\n",
       "      <td>0.33</td>\n",
       "      <td>0.78</td>\n",
       "    </tr>\n",
       "    <tr>\n",
       "      <th>8</th>\n",
       "      <td>0.00</td>\n",
       "      <td>0.17</td>\n",
       "      <td>0.89</td>\n",
       "    </tr>\n",
       "    <tr>\n",
       "      <th>9</th>\n",
       "      <td>0.00</td>\n",
       "      <td>0.00</td>\n",
       "      <td>1.00</td>\n",
       "    </tr>\n",
       "  </tbody>\n",
       "</table>\n",
       "</div>"
      ],
      "text/plain": [
       "    fpr   tpr  threshods\n",
       "0  1.00  1.00       0.00\n",
       "1  0.75  1.00       0.11\n",
       "2  0.50  1.00       0.22\n",
       "3  0.50  0.83       0.33\n",
       "4  0.50  0.67       0.44\n",
       "5  0.25  0.50       0.56\n",
       "6  0.25  0.50       0.67\n",
       "7  0.25  0.33       0.78\n",
       "8  0.00  0.17       0.89\n",
       "9  0.00  0.00       1.00"
      ]
     },
     "execution_count": 162,
     "metadata": {},
     "output_type": "execute_result"
    }
   ],
   "source": [
    "pd.DataFrame({'fpr': fpr_values, 'tpr': tpr_values, 'threshods': thresholds})"
   ]
  },
  {
   "cell_type": "markdown",
   "id": "colored-participation",
   "metadata": {},
   "source": [
    "# Programming"
   ]
  },
  {
   "cell_type": "markdown",
   "id": "second-intermediate",
   "metadata": {},
   "source": [
    "## 1. Visualize the predictions of 1NN on a 2D grid"
   ]
  },
  {
   "cell_type": "code",
   "execution_count": 5,
   "id": "involved-behalf",
   "metadata": {},
   "outputs": [
    {
     "data": {
      "image/png": "[encoded data removed]",
      "text/plain": [
       "<Figure size 432x288 with 2 Axes>"
      ]
     },
     "metadata": {
      "needs_background": "light"
     },
     "output_type": "display_data"
    }
   ],
   "source": [
    "import numpy as np\n",
    "import matplotlib.pyplot as plt\n",
    "\n",
    "D2z_data = np.loadtxt(\"./hw3Data/D2z.txt\", delimiter=\" \")\n",
    "\n",
    "X_train = D2z_data[:, :-1]\n",
    "y_train = D2z_data[:, -1]\n",
    "\n",
    "x1_range = np.arange(-2, 2.1, 0.1)\n",
    "x2_range = np.arange(-2, 2.1, 0.1)\n",
    "\n",
    "x1_grid, x2_grid = np.meshgrid(x1_range, x2_range)\n",
    "test_points = np.column_stack((x1_grid.ravel(), x2_grid.ravel()))\n",
    "\n",
    "# create an array (filled with zeros) to store predictions\n",
    "predictions = np.zeros_like(x1_grid)\n",
    "\n",
    "# for each test point, find the nearest neighbor in the training set\n",
    "for i in range(len(x1_range)):\n",
    "    for j in range(len(x2_range)):\n",
    "        test_point = np.array([[x1_range[i], x2_range[j]]])\n",
    "        distances = np.linalg.norm(X_train - test_point, axis=1) \n",
    "        nearest_neighbor_index = np.argmin(distances) #1NN\n",
    "        predictions[i, j] = y_train[nearest_neighbor_index]\n",
    "\n",
    "# draw a scatter plot for training set\n",
    "plt.scatter(X_train[y_train == 0][:, 0], X_train[y_train == 0][:, 1], c='b', label='Class 0 (Training)') #X1\n",
    "plt.scatter(X_train[y_train == 1][:, 0], X_train[y_train == 1][:, 1], c='r', label='Class 1 (Training)') #X2\n",
    "\n",
    "# draw a contour plot for test points and their predictions\n",
    "plt.contourf(x1_grid, x2_grid, predictions, alpha=0.5, cmap=plt.cm.coolwarm)\n",
    "plt.colorbar(label='Predictions')\n",
    "\n",
    "# show the plot\n",
    "plt.show()\n"
   ]
  },
  {
   "cell_type": "markdown",
   "id": "covered-lying",
   "metadata": {},
   "source": [
    "## 2. Email spacm detector\n",
    "\n",
    "- Task: spam detection \n",
    "- The number of rows: 5000 \n",
    "- The number of features: 3000 (Word frequency in each email)\n",
    "- The label (y) column name: ‘Predictor’\n",
    "- For a single training/test set split, use Email 1-4000 as the training set, Email 4001-5000 as the test set.\n",
    "- For 5-fold cross validation, split dataset in the following way.\n",
    "    - Fold 1, test set: Email 1-1000, training set: the rest (Email 1001-5000)\n",
    "    - Fold 2, test set: Email 1000-2000, training set: the rest\n",
    "    - Fold 3, test set: Email 2000-3000, training set: the rest\n",
    "    - Fold 4, test set: Email 3000-4000, training set: the rest\n",
    "    - Fold 5, test set: Email 4000-5000, training set: the rest"
   ]
  },
  {
   "cell_type": "code",
   "execution_count": 27,
   "id": "external-copying",
   "metadata": {},
   "outputs": [],
   "source": [
    "import pandas as pd\n",
    "\n",
    "email_data = pd.read_csv(\"./hw3Data/emails.csv\", header=0, index_col=0)\n",
    "X = email_data.drop(columns=['Prediction'])\n",
    "y = email_data['Prediction']"
   ]
  },
  {
   "cell_type": "code",
   "execution_count": 119,
   "id": "partial-salmon",
   "metadata": {},
   "outputs": [],
   "source": [
    "import numpy as np\n",
    "\n",
    "def euclidean_distance(x1, x2):\n",
    "    return np.sqrt(np.sum((x1 - x2) ** 2))\n",
    "\n",
    "def one_nn_classifier(X_train, y_train, x_test):\n",
    "    min_distance = float('inf')\n",
    "    nearest_neighbor = None\n",
    "\n",
    "    for x_train, label in zip(X_train, y_train):\n",
    "        distance = euclidean_distance(x_test, x_train)\n",
    "        if distance < min_distance:\n",
    "            min_distance = distance\n",
    "            nearest_neighbor = label\n",
    "    return nearest_neighbor"
   ]
  },
  {
   "cell_type": "code",
   "execution_count": 121,
   "id": "offshore-cricket",
   "metadata": {
    "scrolled": true
   },
   "outputs": [
    {
     "name": "stdout",
     "output_type": "stream",
     "text": [
      "Fold 1:  test start from 0 to 1000\n",
      "Accuracy: 0.8250, Precision: 0.6545, Recall: 0.8175\n",
      "Fold 2:  test start from 1000 to 2000\n",
      "Accuracy: 0.8530, Precision: 0.6857, Recall: 0.8664\n",
      "Fold 3:  test start from 2000 to 3000\n",
      "Accuracy: 0.8620, Precision: 0.7212, Recall: 0.8380\n",
      "Fold 4:  test start from 3000 to 4000\n",
      "Accuracy: 0.8510, Precision: 0.7164, Recall: 0.8163\n",
      "Fold 5:  test start from 4000 to 5000\n",
      "Accuracy: 0.7750, Precision: 0.6057, Recall: 0.7582\n"
     ]
    }
   ],
   "source": [
    "# 5-fold cross-validation\n",
    "k = 5\n",
    "fold_size = len(X) // k\n",
    "\n",
    "for i in range(5):\n",
    "    test_start = i * fold_size\n",
    "    test_end = (i + 1) * fold_size\n",
    "    X_test_fold = X[test_start:test_end]\n",
    "    y_test_fold = y[test_start:test_end]\n",
    "    print(f\"Fold {i + 1}:  test start from {test_start} to {test_end}\")\n",
    "    \n",
    "    X_train_fold = np.concatenate((X[:test_start], X[test_end:]), axis=0)\n",
    "    y_train_fold = np.concatenate((y[:test_start], y[test_end:]), axis=0)\n",
    "\n",
    "    # 1NN classification for each test instance\n",
    "    y_pred_fold = [one_nn_classifier(X_train_fold, y_train_fold, x_test) for x_test in X_test_fold.to_numpy()]\n",
    "\n",
    "    # calculate accuracy, precision, and recall for the fold\n",
    "    correct_predictions = np.sum(y_pred_fold == y_test_fold)\n",
    "    total_predictions = len(y_test_fold)\n",
    "\n",
    "    accuracy_fold = correct_predictions / total_predictions\n",
    "    precision_fold = np.sum((y_pred_fold) & (y_test_fold)) / np.sum(y_pred_fold)\n",
    "    recall_fold = np.sum((y_pred_fold) & (y_test_fold)) / np.sum(y_test_fold)\n",
    "    \n",
    "    print(f\"Accuracy: {accuracy_fold:.4f}, Precision: {precision_fold:.4f}, Recall: {recall_fold:.4f}\")"
   ]
  },
  {
   "cell_type": "markdown",
   "id": "adult-actress",
   "metadata": {},
   "source": [
    "## 3. Logistic Regression"
   ]
  },
  {
   "cell_type": "code",
   "execution_count": 125,
   "id": "bibliographic-cover",
   "metadata": {
    "scrolled": true
   },
   "outputs": [
    {
     "name": "stdout",
     "output_type": "stream",
     "text": [
      "Fold 1:  learning rate: 0.01\n"
     ]
    },
    {
     "name": "stderr",
     "output_type": "stream",
     "text": [
      "<ipython-input-125-43f54a5cffb3>:8: RuntimeWarning: overflow encountered in exp\n",
      "  return 1 / (1 + np.exp(-z))\n"
     ]
    },
    {
     "name": "stdout",
     "output_type": "stream",
     "text": [
      "Accuracy: 0.9150, Precision: 0.8876, Recall: 0.8035\n",
      "Fold 2:  learning rate: 0.0099\n",
      "Accuracy: 0.8970, Precision: 0.8246, Recall: 0.7978\n",
      "Fold 3:  learning rate: 0.009801\n",
      "Accuracy: 0.8910, Precision: 0.8277, Recall: 0.7782\n",
      "Fold 4:  learning rate: 0.00970299\n",
      "Accuracy: 0.7980, Precision: 0.9510, Recall: 0.3299\n",
      "Fold 5:  learning rate: 0.0096059601\n",
      "Accuracy: 0.8480, Precision: 0.7810, Recall: 0.6993\n"
     ]
    }
   ],
   "source": [
    "# the logistic regression model\n",
    "class LogisticRegression:\n",
    "    def __init__(self, learning_rate=0.01, num_iterations=1000):\n",
    "        self.learning_rate = learning_rate\n",
    "        self.num_iterations = num_iterations\n",
    "\n",
    "    def sigmoid(self, z):\n",
    "        return 1 / (1 + np.exp(-z))\n",
    "\n",
    "    def fit(self, X, y):\n",
    "        self.theta = np.zeros(X.shape[1])\n",
    "        m = X.shape[0]\n",
    "\n",
    "        for _ in range(self.num_iterations):\n",
    "            z = np.dot(X, self.theta)\n",
    "            h = self.sigmoid(z)\n",
    "            gradient = np.dot(X.T, (h - y)) / m\n",
    "            self.theta -= self.learning_rate * gradient\n",
    "\n",
    "    def predict(self, X):\n",
    "        z = np.dot(X, self.theta)\n",
    "        h = self.sigmoid(z)\n",
    "        return (h >= 0.5).astype(int)\n",
    "\n",
    "k = 5\n",
    "fold_size = len(X) // k\n",
    "learning_rate=0.01\n",
    "\n",
    "for i in range(k):\n",
    "    test_start = i * fold_size\n",
    "    test_end = (i + 1) * fold_size\n",
    "    X_test_fold = X[test_start:test_end].to_numpy()\n",
    "    y_test_fold = y[test_start:test_end].to_numpy()\n",
    "    print(f\"Fold {i + 1}:  learning rate: {learning_rate}\")\n",
    "    \n",
    "    X_train_fold = np.concatenate((X[:test_start], X[test_end:]), axis=0)\n",
    "    y_train_fold = np.concatenate((y[:test_start], y[test_end:]), axis=0)\n",
    "\n",
    "    # train the logistic regression model\n",
    "    model = LogisticRegression(learning_rate)\n",
    "    model.fit(X_train_fold, y_train_fold)\n",
    "\n",
    "    # make predictions on the test fold\n",
    "    y_pred_fold = model.predict(X_test_fold)\n",
    "\n",
    "    # accuracy, precision, and recall for the fold\n",
    "    correct_predictions = np.sum(y_pred_fold == y_test_fold)\n",
    "    total_predictions = len(y_test_fold)\n",
    "\n",
    "    accuracy_fold = correct_predictions / total_predictions\n",
    "    precision_fold = np.sum((y_pred_fold) & (y_test_fold)) / np.sum(y_pred_fold)\n",
    "    recall_fold = np.sum((y_pred_fold) & (y_test_fold)) / np.sum(y_test_fold)\n",
    "    \n",
    "    learning_rate=learning_rate*0.99\n",
    "\n",
    "    print(f\"Accuracy: {accuracy_fold:.4f}, Precision: {precision_fold:.4f}, Recall: {recall_fold:.4f}\")\n"
   ]
  },
  {
   "cell_type": "markdown",
   "id": "collected-cleveland",
   "metadata": {},
   "source": [
    "## 4. 5-fold cross validation with kNN varying k (k=1, 3, 5, 7, 10)"
   ]
  },
  {
   "cell_type": "code",
   "execution_count": 126,
   "id": "purple-extraction",
   "metadata": {
    "scrolled": false
   },
   "outputs": [
    {
     "name": "stdout",
     "output_type": "stream",
     "text": [
      "k = 1, Average Accuracy: 0.8344\n",
      "k = 3, Average Accuracy: 0.8410\n",
      "k = 5, Average Accuracy: 0.8418\n",
      "k = 7, Average Accuracy: 0.8452\n",
      "k = 10, Average Accuracy: 0.8558\n"
     ]
    },
    {
     "data": {
      "image/png": "[encoded data removed]",
      "text/plain": [
       "<Figure size 576x432 with 1 Axes>"
      ]
     },
     "metadata": {
      "needs_background": "light"
     },
     "output_type": "display_data"
    },
    {
     "name": "stdout",
     "output_type": "stream",
     "text": [
      "k = 1, Average Accuracy: 0.8344\n",
      "k = 3, Average Accuracy: 0.8410\n",
      "k = 5, Average Accuracy: 0.8418\n",
      "k = 7, Average Accuracy: 0.8452\n",
      "k = 10, Average Accuracy: 0.8558\n"
     ]
    }
   ],
   "source": [
    "# the kNN classifier\n",
    "class kNNClassifier:\n",
    "    def __init__(self, k):\n",
    "        self.k = k\n",
    "\n",
    "    def euclidean_distance(self, x1, x2):\n",
    "        return np.sqrt(np.sum((x1 - x2) ** 2))\n",
    "\n",
    "    def fit(self, X, y):\n",
    "        self.X_train = X\n",
    "        self.y_train = y\n",
    "\n",
    "    def predict(self, X):\n",
    "        y_pred = [self._predict(x) for x in X]\n",
    "        return np.array(y_pred)\n",
    "\n",
    "    def _predict(self, x):\n",
    "        distances = [self.euclidean_distance(x, x_train) for x_train in self.X_train]\n",
    "        # indices of k-nearest samples\n",
    "        k_indices = np.argsort(distances)[:self.k]\n",
    "        # the labels of the k-nearest samples\n",
    "        k_nearest_labels = [self.y_train[i] for i in k_indices]\n",
    "        \n",
    "        # the most common class label\n",
    "        most_common = np.bincount(k_nearest_labels).argmax()\n",
    "        return most_common\n",
    "\n",
    "# kNN classification with varying k\n",
    "k_values = [1, 3, 5, 7, 10]\n",
    "average_accuracies = []\n",
    "\n",
    "for k in k_values:\n",
    "    accuracy_scores = []\n",
    "\n",
    "    # 5-fold cross-validation\n",
    "    for i in range(5):\n",
    "\n",
    "        test_start = i * fold_size\n",
    "        test_end = (i + 1) * fold_size\n",
    "        X_test_fold = X[test_start:test_end].to_numpy()\n",
    "        y_test_fold = y[test_start:test_end].to_numpy()\n",
    "\n",
    "        X_train_fold = np.concatenate((X[:test_start], X[test_end:]), axis=0)\n",
    "        y_train_fold = np.concatenate((y[:test_start], y[test_end:]), axis=0)\n",
    "\n",
    "        # train the kNN classifier\n",
    "        model = kNNClassifier(k)\n",
    "        model.fit(X_train_fold, y_train_fold)\n",
    "\n",
    "        y_pred_fold = model.predict(X_test_fold)\n",
    "\n",
    "        correct_predictions = np.sum(y_pred_fold == y_test_fold)\n",
    "        total_predictions = len(y_test_fold)\n",
    "        accuracy_fold = correct_predictions / total_predictions\n",
    "\n",
    "        accuracy_scores.append(accuracy_fold)\n",
    "\n",
    "    # average accuracy for the current k\n",
    "    average_accuracy = np.mean(accuracy_scores)\n",
    "    average_accuracies.append(average_accuracy)\n",
    "    print(f\"k = {k}, Average Accuracy: {average_accuracy:.4f}\")\n",
    "\n",
    "plt.figure(figsize=(8, 6))\n",
    "plt.plot(k_values, average_accuracies, marker='o')\n",
    "plt.xlabel('k (Number of Neighbors)')\n",
    "plt.ylabel('Average Accuracy')\n",
    "plt.grid(True)\n",
    "plt.show()\n",
    "\n",
    "for k, avg_acc in zip(k_values, average_accuracies):\n",
    "    print(f\"k = {k}, Average Accuracy: {avg_acc:.4f}\")"
   ]
  },
  {
   "cell_type": "markdown",
   "id": "trying-moisture",
   "metadata": {},
   "source": [
    "## 5. Train kNN and logistic regression and draw ROC curves"
   ]
  },
  {
   "cell_type": "code",
   "execution_count": 163,
   "id": "single-prague",
   "metadata": {},
   "outputs": [],
   "source": [
    "class LogisticRegression:\n",
    "    def __init__(self, learning_rate=0.01, num_iterations=1000):\n",
    "        self.learning_rate = learning_rate\n",
    "        self.num_iterations = num_iterations\n",
    "\n",
    "    def sigmoid(self, z):\n",
    "        return 1 / (1 + np.exp(-z))\n",
    "\n",
    "    def fit(self, X, y):\n",
    "        self.theta = np.zeros(X.shape[1])\n",
    "        m = X.shape[0]\n",
    "\n",
    "        for _ in range(self.num_iterations):\n",
    "            z = np.dot(X, self.theta)\n",
    "            h = self.sigmoid(z)\n",
    "            gradient = np.dot(X.T, (h - y)) / m\n",
    "            self.theta -= self.learning_rate * gradient\n",
    "\n",
    "    def predict(self, X, threshold):\n",
    "        z = np.dot(X, self.theta)\n",
    "        h = self.sigmoid(z)\n",
    "        return (h >= threshold).astype(int)"
   ]
  },
  {
   "cell_type": "code",
   "execution_count": 170,
   "id": "linear-speed",
   "metadata": {},
   "outputs": [],
   "source": [
    "class kNNClassifier:\n",
    "    def __init__(self, k):\n",
    "        self.k = k\n",
    "\n",
    "    def euclidean_distance(self, x1, x2):\n",
    "        return np.sqrt(np.sum((x1 - x2) ** 2))\n",
    "\n",
    "    def fit(self, X, y):\n",
    "        self.X_train = X\n",
    "        self.y_train = y\n",
    "\n",
    "    def predict(self, X, threshold):\n",
    "        y_pred = [self._predict(x, threshold) for x in X]\n",
    "        return np.array(y_pred)\n",
    "\n",
    "    def _predict(self, x, threshold):\n",
    "        distances = [self.euclidean_distance(x, x_train) for x_train in self.X_train]\n",
    "        k_indices = np.argsort(distances)[:self.k]\n",
    "        \n",
    "        # the labels of the k-nearest samples\n",
    "        k_nearest_labels = [self.y_train[i] for i in k_indices]\n",
    "        \n",
    "        # the most common class label\n",
    "        #most_common = np.bincount(k_nearest_labels).argmax()\n",
    "        \n",
    "        # calculate the ratio of neighbors whose label is 1\n",
    "        ratio_class_1 = sum(k_nearest_labels) / self.k\n",
    "        \n",
    "        return (ratio_class_1 >= threshold).astype(int)"
   ]
  },
  {
   "cell_type": "code",
   "execution_count": null,
   "id": "nervous-lighting",
   "metadata": {},
   "outputs": [],
   "source": [
    "X_train = X[:4000].to_numpy()\n",
    "y_train = y[:4000].to_numpy()\n",
    "\n",
    "X_test = X[4001: ].to_numpy()\n",
    "y_test = y[4001: ].to_numpy()"
   ]
  },
  {
   "cell_type": "code",
   "execution_count": 172,
   "id": "positive-valentine",
   "metadata": {},
   "outputs": [
    {
     "name": "stderr",
     "output_type": "stream",
     "text": [
      "<ipython-input-163-18ef5d30de2c>:7: RuntimeWarning: overflow encountered in exp\n",
      "  return 1 / (1 + np.exp(-z))\n"
     ]
    }
   ],
   "source": [
    "logistic_model = LogisticRegression(learning_rate=0.01, num_iterations=1000)\n",
    "logistic_model.fit(X_train, y_train)\n",
    "\n",
    "lg_thresholds = np.linspace(0, 1, 100)\n",
    "logistic_tpr_values = []\n",
    "logistic_fpr_values = []\n",
    "\n",
    "for threshold in lg_thresholds:\n",
    "    y_pred_logistic = logistic_model.predict(X_test, threshold)\n",
    "    \n",
    "    lg_tp = np.sum((y_pred_logistic == 1) & (y_test == 1))\n",
    "    lg_fp = np.sum((y_pred_logistic == 1) & (y_test == 0))\n",
    "    lg_tn = np.sum((y_pred_logistic == 0) & (y_test == 0))\n",
    "    lg_fn = np.sum((y_pred_logistic == 0) & (y_test == 1))\n",
    "\n",
    "    lg_tpr = lg_tp / (lg_tp + lg_fn)\n",
    "    lg_fpr = lg_fp / (lg_fp + lg_tn)\n",
    "\n",
    "    logistic_tpr_values.append(lg_tpr)\n",
    "    logistic_tpr_values.append(lg_fpr)"
   ]
  },
  {
   "cell_type": "code",
   "execution_count": null,
   "id": "collaborative-amount",
   "metadata": {},
   "outputs": [],
   "source": [
    "knn_model = kNNClassifier(5)\n",
    "knn_model.fit(X_train, y_train)\n",
    "\n",
    "knn_thresholds = np.linspace(0, 1, 100)\n",
    "knn_tpr_values = []\n",
    "knn_fpr_values = []\n",
    "\n",
    "for threshold in knn_thresholds:\n",
    "    y_pred_knn = knn_model.predict(X_test, threshold)\n",
    "    \n",
    "    knn_tp = np.sum((y_pred_knn == 1) & (y_test == 1))\n",
    "    knn_fp = np.sum((y_pred_knn == 1) & (y_test == 0))\n",
    "    knn_tn = np.sum((y_pred_knn == 0) & (y_test == 0))\n",
    "    knn_fn = np.sum((y_pred_knn == 0) & (y_test == 1))\n",
    "\n",
    "    knn_tpr = knn_tp / (knn_tp + knn_fn)\n",
    "    knn_fpr = knn_fp / (knn_fp + knn_tn)\n",
    "\n",
    "    knn_tpr_values.append(knn_tpr)\n",
    "    knn_tpr_values.append(knn_fpr)"
   ]
  },
  {
   "cell_type": "code",
   "execution_count": null,
   "id": "constitutional-silver",
   "metadata": {},
   "outputs": [],
   "source": [
    "# Plot ROC curves\n",
    "plt.figure(figsize=(8, 6))\n",
    "plt.plot(logistic_fpr, logistic_tpr, label='Logistic Regression')\n",
    "plt.plot(knn_fpr, knn_tpr, label='kNN')\n",
    "plt.xlabel('False Positive Rate (Positive label: 1)')\n",
    "plt.ylabel('True Positive Rate (Positive label: 1)')\n",
    "plt.legend()\n",
    "plt.grid(True)\n",
    "plt.show()"
   ]
  },
  {
   "cell_type": "code",
   "execution_count": null,
   "id": "convertible-gnome",
   "metadata": {},
   "outputs": [],
   "source": []
  }
 ],
 "metadata": {
  "kernelspec": {
   "display_name": "Python 3",
   "language": "python",
   "name": "python3"
  },
  "language_info": {
   "codemirror_mode": {
    "name": "ipython",
    "version": 3
   },
   "file_extension": ".py",
   "mimetype": "text/x-python",
   "name": "python",
   "nbconvert_exporter": "python",
   "pygments_lexer": "ipython3",
   "version": "3.8.5"
  }
 },
 "nbformat": 4,
 "nbformat_minor": 5
}
